{
 "cells": [
  {
   "cell_type": "markdown",
   "metadata": {},
   "source": [
    "# **<center><span style= \"color:#66CDAA;\">Hyperperameter Tuning</span></center>**"
   ]
  },
  {
   "cell_type": "code",
   "execution_count": 1,
   "metadata": {},
   "outputs": [],
   "source": [
    "# hyperparameter tuning is the process of finding the best hyperparameters for a model.\n",
    "\n",
    "# types of hyperparameters:\n",
    "# grid search: search all possible combinations of hyperparameters\n",
    "# random search: search random combinations of hyperparameters\n",
    "# bayesian optimization: search based on previous results\n",
    "# genetic algorithms: search based on evolution\n",
    "# gradient-based optimization: search based on gradients\n"
   ]
  },
  {
   "cell_type": "code",
   "execution_count": 5,
   "metadata": {},
   "outputs": [],
   "source": [
    "# import some libraries\n",
    "import numpy as np\n",
    "import pandas as pd\n",
    "import matplotlib.pyplot as plt\n",
    "import seaborn as sns\n",
    "from sklearn.ensemble import RandomForestClassifier\n",
    "from sklearn.model_selection import train_test_split, GridSearchCV, RandomizedSearchCV\n",
    "from sklearn.metrics import accuracy_score, classification_report, confusion_matrix\n",
    "from sklearn.datasets import load_iris\n"
   ]
  },
  {
   "cell_type": "code",
   "execution_count": 3,
   "metadata": {},
   "outputs": [],
   "source": [
    "# load the dataset\n",
    "iris = load_iris()\n",
    "X = iris.data\n",
    "y = iris.target"
   ]
  },
  {
   "cell_type": "code",
   "execution_count": 7,
   "metadata": {},
   "outputs": [
    {
     "name": "stdout",
     "output_type": "stream",
     "text": [
      "Fitting 5 folds for each of 50 candidates, totalling 250 fits\n",
      "Best parameter are {'criterion': 'gini', 'max_depth': 3, 'n_estimators': 100}\n"
     ]
    }
   ],
   "source": [
    "# define the model\n",
    "model = RandomForestClassifier()\n",
    "\n",
    "# create the hyperparameter grid\n",
    "param_grid = {\n",
    "    'n_estimators': [50,100, 200, 300,400],\n",
    "    'max_depth': [1, 3, 5, 7, 9],\n",
    "    'criterion': ['gini', 'entropy']\n",
    "}\n",
    "\n",
    "# create the grid search\n",
    "grid_search = GridSearchCV(estimator=model,\n",
    "                           param_grid=param_grid,\n",
    "                           cv=5,\n",
    "                           scoring='accuracy',\n",
    "                           n_jobs=-1,\n",
    "                           verbose=2)\n",
    "\n",
    "# fit the grid search\n",
    "grid_search.fit(X, y)\n",
    "\n",
    "# view the best parameters\n",
    "print(f\"Best parameter are {grid_search.best_params_}\")\n",
    "\n"
   ]
  },
  {
   "cell_type": "code",
   "execution_count": 8,
   "metadata": {},
   "outputs": [
    {
     "name": "stdout",
     "output_type": "stream",
     "text": [
      "Fitting 5 folds for each of 10 candidates, totalling 50 fits\n",
      "Best parameter are {'n_estimators': 100, 'max_depth': 5, 'criterion': 'entropy'}\n"
     ]
    }
   ],
   "source": [
    "# define the model\n",
    "model = RandomForestClassifier()\n",
    "\n",
    "# create the hyperparameter grid\n",
    "param_grid = {\n",
    "    'n_estimators': [50,100, 200, 300,400],\n",
    "    'max_depth': [1, 3, 5, 7, 9],\n",
    "    'criterion': ['gini', 'entropy']\n",
    "}\n",
    "\n",
    "# create the grid search\n",
    "random_search = RandomizedSearchCV(estimator=model,\n",
    "                           param_distributions=param_grid,\n",
    "                           cv=5,\n",
    "                           scoring='accuracy',\n",
    "                           n_jobs=-1,\n",
    "                           verbose=2)\n",
    "\n",
    "# fit the grid search\n",
    "random_search.fit(X, y)\n",
    "\n",
    "# view the best parameters\n",
    "print(f\"Best parameter are {random_search.best_params_}\")\n",
    "\n"
   ]
  },
  {
   "cell_type": "code",
   "execution_count": null,
   "metadata": {},
   "outputs": [],
   "source": []
  }
 ],
 "metadata": {
  "kernelspec": {
   "display_name": "python_ml",
   "language": "python",
   "name": "python3"
  },
  "language_info": {
   "codemirror_mode": {
    "name": "ipython",
    "version": 3
   },
   "file_extension": ".py",
   "mimetype": "text/x-python",
   "name": "python",
   "nbconvert_exporter": "python",
   "pygments_lexer": "ipython3",
   "version": "3.11.11"
  }
 },
 "nbformat": 4,
 "nbformat_minor": 2
}
