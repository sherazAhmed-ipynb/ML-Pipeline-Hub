{
 "cells": [
  {
   "cell_type": "markdown",
   "metadata": {},
   "source": [
    "# **<center><span style= \"color:#00827F;\">Pipelining in machine learning</span></center>**"
   ]
  },
  {
   "cell_type": "code",
   "execution_count": 1,
   "metadata": {},
   "outputs": [],
   "source": [
    "# imports the libraries\n",
    "import numpy as np\n",
    "import pandas as pd\n",
    "import matplotlib.pyplot as plt\n",
    "import seaborn as sns\n",
    "from sklearn.model_selection import train_test_split\n",
    "from sklearn.pipeline import Pipeline\n",
    "from sklearn.compose import ColumnTransformer\n",
    "from sklearn.impute import SimpleImputer\n",
    "from sklearn.preprocessing import OneHotEncoder, LabelEncoder\n",
    "from sklearn.ensemble import RandomForestClassifier\n",
    "from sklearn.metrics import accuracy_score"
   ]
  },
  {
   "cell_type": "code",
   "execution_count": 2,
   "metadata": {},
   "outputs": [],
   "source": [
    "# load the dataset\n",
    "titanic_data = sns.load_dataset('titanic')\n",
    "\n",
    "# select the features and target variable\n",
    "X = titanic_data[['pclass','sex','age','fare','embarked']]\n",
    "y = titanic_data['survived']"
   ]
  },
  {
   "cell_type": "code",
   "execution_count": 3,
   "metadata": {},
   "outputs": [],
   "source": [
    "# split the data into train and test sets\n",
    "X_train, X_test, y_train, y_test = train_test_split(X,y, test_size=0.20, random_state=42)"
   ]
  },
  {
   "cell_type": "code",
   "execution_count": 4,
   "metadata": {},
   "outputs": [],
   "source": [
    "# define the column transformer for imputing missing values\n",
    "numeric_features = ['age','fare']\n",
    "categorical_features = ['pclass','sex','embarked']\n",
    "\n",
    "numeric_transformer = Pipeline(steps=[('imputer', SimpleImputer(strategy='median'))])\n",
    "\n",
    "categorical_transformer = Pipeline(steps=[('imputer', SimpleImputer(strategy='most_frequent')),\n",
    "                                          ('encoder', OneHotEncoder(handle_unknown='ignore'))\n",
    "                                           ])\n",
    "\n",
    "# define the preprocessor \n",
    "preprocessor = ColumnTransformer(\n",
    "    transformers=[\n",
    "        ('num', numeric_transformer, numeric_features),\n",
    "        ('cat', categorical_transformer, categorical_features)\n",
    "    ]\n",
    ")"
   ]
  },
  {
   "cell_type": "code",
   "execution_count": null,
   "metadata": {},
   "outputs": [],
   "source": [
    "# now creating a pipline with the preprocessor(step name) and randomForest classifier(model)\n",
    "pipline = Pipeline([\n",
    "    ('preprocessor', preprocessor),\n",
    "    ('classifier', RandomForestClassifier(random_state=42))\n",
    "])"
   ]
  },
  {
   "cell_type": "code",
   "execution_count": 7,
   "metadata": {},
   "outputs": [
    {
     "name": "stdout",
     "output_type": "stream",
     "text": [
      "Accuracy :  0.7821229050279329\n"
     ]
    }
   ],
   "source": [
    "# fit the pipline on the training data\n",
    "pipline.fit(X_train,y_train)\n",
    "\n",
    "# make predictions on the test data\n",
    "y_pred = pipline.predict(X_test)\n",
    "\n",
    "# evaluate the model wiht accuracy score\n",
    "accuracy = accuracy_score(y_test,y_pred)\n",
    "print(\"Accuracy : \", accuracy)"
   ]
  },
  {
   "cell_type": "markdown",
   "metadata": {},
   "source": [
    "## ***<span style= \"color:purple;\">hyperparameter tuning in pipling </span>***"
   ]
  },
  {
   "cell_type": "code",
   "execution_count": null,
   "metadata": {},
   "outputs": [],
   "source": [
    "# imports the libraries\n",
    "import pandas as pd\n",
    "import seaborn as sns\n",
    "from sklearn.model_selection import train_test_split, GridSearchCV\n",
    "from sklearn.pipeline import Pipeline\n",
    "from sklearn.compose import ColumnTransformer\n",
    "from sklearn.impute import SimpleImputer\n",
    "from sklearn.preprocessing import OneHotEncoder, LabelEncoder\n",
    "from sklearn.ensemble import RandomForestClassifier\n",
    "from sklearn.metrics import accuracy_score"
   ]
  },
  {
   "cell_type": "code",
   "execution_count": 9,
   "metadata": {},
   "outputs": [],
   "source": [
    "# load the dataset\n",
    "titanic_data = sns.load_dataset('titanic')\n",
    "\n",
    "# select the features and target variable\n",
    "X = titanic_data[['pclass','sex','age','fare','embarked']]\n",
    "y = titanic_data['survived']\n",
    "\n",
    "# split the data into train and test sets\n",
    "X_train, X_test, y_train, y_test = train_test_split(X,y, test_size=0.20, random_state=42)\n"
   ]
  },
  {
   "cell_type": "code",
   "execution_count": 11,
   "metadata": {},
   "outputs": [
    {
     "name": "stdout",
     "output_type": "stream",
     "text": [
      "Accuracy :  0.8212290502793296\n",
      "best hyperparameters :  {'model__max_depth': None, 'model__min_samples_split': 5, 'model__n_estimators': 300}\n"
     ]
    }
   ],
   "source": [
    "# now creating a pipline with the preprocessor(step name) and randomForest classifier(model)\n",
    "pipline = Pipeline([\n",
    "    ('imputer', SimpleImputer(strategy='most_frequent')),\n",
    "    ('encoder', OneHotEncoder(handle_unknown='ignore')),\n",
    "    ('model', RandomForestClassifier(random_state=42))\n",
    "])\n",
    "\n",
    "# define the hyperparameters to tune\n",
    "hyperparameters = {\n",
    "    'model__n_estimators': [100,200,300],\n",
    "    'model__max_depth': [None,5,10],\n",
    "    'model__min_samples_split': [2,5,10]\n",
    "}\n",
    "\n",
    "# perfrom grid search CV\n",
    "grid_search = GridSearchCV(pipline, hyperparameters, cv=5)\n",
    "\n",
    "# fit the gscv\n",
    "grid_search.fit(X_train,y_train)\n",
    "\n",
    "# get the best model\n",
    "best_model = grid_search.best_estimator_\n",
    "\n",
    "# make predictions on the test data using the model \n",
    "y_pred = best_model.predict(X_test)\n",
    "\n",
    "# get the accuracy score\n",
    "accuracy = accuracy_score(y_test,y_pred)\n",
    "print(\"Accuracy : \", accuracy)\n",
    "\n",
    "# printing the best hyperparameters\n",
    "print(\"best hyperparameters : \", grid_search.best_params_)"
   ]
  },
  {
   "cell_type": "markdown",
   "metadata": {},
   "source": [
    "## ***<span style= \"color:purple;\">selecting best model </span>***"
   ]
  },
  {
   "cell_type": "code",
   "execution_count": 15,
   "metadata": {},
   "outputs": [],
   "source": [
    "# imports the libraries\n",
    "import pandas as pd\n",
    "import seaborn as sns\n",
    "from sklearn.model_selection import train_test_split, GridSearchCV, cross_val_score\n",
    "from sklearn.pipeline import Pipeline\n",
    "from sklearn.compose import ColumnTransformer\n",
    "from sklearn.impute import SimpleImputer\n",
    "from sklearn.preprocessing import OneHotEncoder, LabelEncoder\n",
    "from sklearn.ensemble import RandomForestClassifier, GradientBoostingClassifier\n",
    "from sklearn.metrics import accuracy_score"
   ]
  },
  {
   "cell_type": "code",
   "execution_count": 16,
   "metadata": {},
   "outputs": [],
   "source": [
    "# load the dataset\n",
    "titanic_data = sns.load_dataset('titanic')\n",
    "\n",
    "# select the features and target variable\n",
    "X = titanic_data[['pclass','sex','age','fare','embarked']]\n",
    "y = titanic_data['survived']\n",
    "\n",
    "# split the data into train and test sets\n",
    "X_train, X_test, y_train, y_test = train_test_split(X,y, test_size=0.20, random_state=42)\n"
   ]
  },
  {
   "cell_type": "code",
   "execution_count": 18,
   "metadata": {},
   "outputs": [
    {
     "name": "stdout",
     "output_type": "stream",
     "text": [
      "model :  Random forest\n",
      "cross-validation accuracy :  0.7991529597163399\n",
      "test accuracy  0.8212290502793296\n",
      "model :  Gradient boosting\n",
      "cross-validation accuracy :  0.8061952132374668\n",
      "test accuracy  0.8212290502793296\n",
      "best model :  Pipeline(steps=[('imputer', SimpleImputer(strategy='most_frequent')),\n",
      "                ('encoder', OneHotEncoder(handle_unknown='ignore')),\n",
      "                ('model', RandomForestClassifier(random_state=42))])\n"
     ]
    }
   ],
   "source": [
    "# creating list of models to evaluate the best one\n",
    "models = [\n",
    "    ('Random forest', RandomForestClassifier(random_state=42)),\n",
    "    ('Gradient boosting',GradientBoostingClassifier(random_state=42) )\n",
    "]\n",
    "\n",
    "best_model = None\n",
    "best_accuracy = 0.0\n",
    "\n",
    "# itrarte over the model\n",
    "for name, model in models:\n",
    "    pipeline = Pipeline([\n",
    "        ('imputer', SimpleImputer(strategy='most_frequent')),\n",
    "        ('encoder', OneHotEncoder(handle_unknown='ignore')),\n",
    "        ('model', model)\n",
    "    ])\n",
    "\n",
    "    # perform cross validation\n",
    "    scores = cross_val_score(pipeline, X_train, y_train, cv=5)\n",
    "\n",
    "    # mean accuarcy\n",
    "    mean_accuracy = scores.mean()\n",
    "\n",
    "    # fit the pipline on the training data\n",
    "    pipeline.fit(X_train,y_train)\n",
    "\n",
    "    # make predictions\n",
    "    y_pred = pipeline.predict(X_test)\n",
    "\n",
    "    # print the performance matrics\n",
    "    print('model : ',name)\n",
    "    print('cross-validation accuracy : ',mean_accuracy)\n",
    "    print('test accuracy ', accuracy)\n",
    "    \n",
    "    # check if the current model has the best accuarcy\n",
    "    if accuracy > best_accuracy:\n",
    "        best_accuracy = accuracy\n",
    "        best_model = pipeline\n",
    "\n",
    "# retrieve the best model\n",
    "print(\"best model : \", best_model) "
   ]
  },
  {
   "cell_type": "code",
   "execution_count": null,
   "metadata": {},
   "outputs": [],
   "source": []
  }
 ],
 "metadata": {
  "kernelspec": {
   "display_name": "python_ml",
   "language": "python",
   "name": "python3"
  },
  "language_info": {
   "codemirror_mode": {
    "name": "ipython",
    "version": 3
   },
   "file_extension": ".py",
   "mimetype": "text/x-python",
   "name": "python",
   "nbconvert_exporter": "python",
   "pygments_lexer": "ipython3",
   "version": "3.11.11"
  }
 },
 "nbformat": 4,
 "nbformat_minor": 2
}
